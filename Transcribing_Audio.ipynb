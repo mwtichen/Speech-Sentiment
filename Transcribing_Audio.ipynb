{
 "cells": [
  {
   "cell_type": "markdown",
   "metadata": {},
   "source": [
    "## Transcribing Audio"
   ]
  },
  {
   "cell_type": "markdown",
   "metadata": {},
   "source": [
    "Following The Real Python's [Ultimate Guide To Speech Recognition With Python](https://realpython.com/python-speech-recognition/#picking-a-python-speech-recognition-package), I'm using the SpeechRecognition package to transcribe audio from my microphone to text. Afterwards, I use the TextBlob package to quickly analyze the sentiment."
   ]
  },
  {
   "cell_type": "code",
   "execution_count": 1,
   "metadata": {},
   "outputs": [
    {
     "data": {
      "text/plain": [
       "'3.6.3'"
      ]
     },
     "execution_count": 1,
     "metadata": {},
     "output_type": "execute_result"
    }
   ],
   "source": [
    "import speech_recognition as sr\n",
    "sr.__version__"
   ]
  },
  {
   "cell_type": "code",
   "execution_count": 2,
   "metadata": {},
   "outputs": [],
   "source": [
    "r = sr.Recognizer()"
   ]
  },
  {
   "cell_type": "markdown",
   "metadata": {},
   "source": [
    "Listing my microphone devices."
   ]
  },
  {
   "cell_type": "code",
   "execution_count": 3,
   "metadata": {},
   "outputs": [
    {
     "data": {
      "text/plain": [
       "['Microsoft Sound Mapper - Input',\n",
       " 'Microphone (Logitech USB Headse',\n",
       " 'Microsoft Sound Mapper - Output',\n",
       " 'Speakers (Logitech USB Headset)',\n",
       " 'Speakers (Realtek High Definiti',\n",
       " 'Microphone (Realtek HD Audio Mic input)',\n",
       " 'Stereo Mix (Realtek HD Audio Stereo input)',\n",
       " 'Line In (Realtek HD Audio Line input)',\n",
       " 'Speakers (Realtek HD Audio output)',\n",
       " 'Speakers (Logitech USB Headset)',\n",
       " 'Microphone (Logitech USB Headset)']"
      ]
     },
     "execution_count": 3,
     "metadata": {},
     "output_type": "execute_result"
    }
   ],
   "source": [
    "mic = sr.Microphone()\n",
    "sr.Microphone.list_microphone_names()"
   ]
  },
  {
   "cell_type": "markdown",
   "metadata": {},
   "source": [
    "Time to speak something negative into the microphone."
   ]
  },
  {
   "cell_type": "code",
   "execution_count": 4,
   "metadata": {},
   "outputs": [],
   "source": [
    "with mic as source:\n",
    "    audio = r.listen(source)"
   ]
  },
  {
   "cell_type": "markdown",
   "metadata": {},
   "source": [
    "Using the Google Web Speech API to transcribe my texts. For the moment this will do, though I'm looking into CMU Sphinx as an alternative."
   ]
  },
  {
   "cell_type": "code",
   "execution_count": 5,
   "metadata": {},
   "outputs": [],
   "source": [
    "transcript = r.recognize_google(audio)"
   ]
  },
  {
   "cell_type": "code",
   "execution_count": 6,
   "metadata": {},
   "outputs": [
    {
     "name": "stdout",
     "output_type": "stream",
     "text": [
      "time is a flat circle everything I've ever done everything that you will do you will do over and over and over again\n"
     ]
    }
   ],
   "source": [
    "print(transcript)"
   ]
  },
  {
   "cell_type": "markdown",
   "metadata": {},
   "source": [
    "Using TextBlob to analyze sentiment. According to [this webpage](https://planspace.org/20150607-textblob_sentiment/), the TextBlob method parses text into tokens, lookups the sentiment, then computes the average sentiment for each token."
   ]
  },
  {
   "cell_type": "code",
   "execution_count": 7,
   "metadata": {},
   "outputs": [],
   "source": [
    "from textblob import TextBlob"
   ]
  },
  {
   "cell_type": "code",
   "execution_count": 8,
   "metadata": {},
   "outputs": [],
   "source": [
    "analyzed_script = TextBlob(transcript)"
   ]
  },
  {
   "cell_type": "code",
   "execution_count": 9,
   "metadata": {},
   "outputs": [
    {
     "data": {
      "text/plain": [
       "Sentiment(polarity=-0.025, subjectivity=0.125)"
      ]
     },
     "execution_count": 9,
     "metadata": {},
     "output_type": "execute_result"
    }
   ],
   "source": [
    "analyzed_script.sentiment"
   ]
  },
  {
   "cell_type": "markdown",
   "metadata": {},
   "source": [
    "As predicted this was a negative script, since the polarity was -0.025. A textblob can have a polarity between -1 and 1, so this is only slightly negative.\n",
    "\n",
    "Let's try saying something positive, like this inspirational quote."
   ]
  },
  {
   "cell_type": "code",
   "execution_count": 10,
   "metadata": {},
   "outputs": [],
   "source": [
    "with mic as source:\n",
    "    audio = r.listen(source)"
   ]
  },
  {
   "cell_type": "code",
   "execution_count": 11,
   "metadata": {},
   "outputs": [
    {
     "name": "stdout",
     "output_type": "stream",
     "text": [
      "our capacity to draw happiness from aesthetic objects or material Goods in fact seems critically dependent on our first satisfying a more important range of emotional or psychological needs among them the need for understanding for love expression and respect\n"
     ]
    }
   ],
   "source": [
    "transcript = r.recognize_google(audio)\n",
    "print(transcript)"
   ]
  },
  {
   "cell_type": "markdown",
   "metadata": {},
   "source": [
    "Checking the sentiment:"
   ]
  },
  {
   "cell_type": "code",
   "execution_count": 12,
   "metadata": {},
   "outputs": [
    {
     "name": "stdout",
     "output_type": "stream",
     "text": [
      "Sentiment(polarity=0.31666666666666665, subjectivity=0.5759259259259258)\n"
     ]
    }
   ],
   "source": [
    "analyzed_script = TextBlob(transcript)\n",
    "print(analyzed_script.sentiment)"
   ]
  },
  {
   "cell_type": "markdown",
   "metadata": {},
   "source": [
    "With words like happiness and love in the document, the sentiment has polarity = 0.32. \n",
    "\n",
    "In addition there's a measure of subjectivity. The subjectivie ranges from 0 to 1, so this quote is more on the subjective side."
   ]
  },
  {
   "cell_type": "code",
   "execution_count": null,
   "metadata": {},
   "outputs": [],
   "source": []
  }
 ],
 "metadata": {
  "kernelspec": {
   "display_name": "Python 3",
   "language": "python",
   "name": "python3"
  },
  "language_info": {
   "codemirror_mode": {
    "name": "ipython",
    "version": 3
   },
   "file_extension": ".py",
   "mimetype": "text/x-python",
   "name": "python",
   "nbconvert_exporter": "python",
   "pygments_lexer": "ipython3",
   "version": "3.8.3"
  }
 },
 "nbformat": 4,
 "nbformat_minor": 4
}
